{
 "cells": [
  {
   "cell_type": "code",
   "execution_count": 153,
   "metadata": {
    "collapsed": true
   },
   "outputs": [],
   "source": [
    "import datetime\n",
    "import time\n",
    "from selenium.webdriver.common.keys import Keys\n",
    "\n",
    "from selenium import webdriver\n",
    "from selenium.webdriver.chrome.options import Options\n",
    "from selenium.webdriver.chrome.service import Service\n",
    "from selenium.webdriver.common.by import By\n",
    "from webdriver_manager.chrome import ChromeDriverManager\n",
    "from tkinter import *"
   ]
  },
  {
   "cell_type": "code",
   "execution_count": 153,
   "outputs": [],
   "source": [],
   "metadata": {
    "collapsed": false,
    "pycharm": {
     "name": "#%%\n"
    }
   }
  },
  {
   "cell_type": "code",
   "execution_count": 154,
   "outputs": [
    {
     "name": "stderr",
     "output_type": "stream",
     "text": [
      "\n",
      "\n",
      "====== WebDriver manager ======\n",
      "Current google-chrome version is 99.0.4844\n",
      "Get LATEST chromedriver version for 99.0.4844 google-chrome\n",
      "Driver [C:\\Users\\ALjazeera\\.wdm\\drivers\\chromedriver\\win32\\99.0.4844.51\\chromedriver.exe] found in cache\n"
     ]
    }
   ],
   "source": [
    "\n",
    "\n",
    "options = Options()\n",
    "options.headless = False\n",
    "# Start Chrome WebDriver\n",
    "driver = webdriver.Chrome(service=Service(ChromeDriverManager().install()), options=options)\n",
    "driver.implicitly_wait(1)  # wait  to load the page\n",
    "driver.maximize_window()  # to max the window"
   ],
   "metadata": {
    "collapsed": false,
    "pycharm": {
     "name": "#%%\n"
    }
   }
  },
  {
   "cell_type": "code",
   "execution_count": 155,
   "outputs": [],
   "source": [
    "driver.get(r\"https://noureldin.pythonanywhere.com/campus_portal/\")\n",
    "\n",
    "time.sleep(2)"
   ],
   "metadata": {
    "collapsed": false,
    "pycharm": {
     "name": "#%%\n"
    }
   }
  },
  {
   "cell_type": "code",
   "execution_count": 156,
   "outputs": [],
   "source": [
    "login = driver.find_element(By.XPATH, '//*[@id=\"dropdown\"]')\n",
    "login.click()"
   ],
   "metadata": {
    "collapsed": false,
    "pycharm": {
     "name": "#%%\n"
    }
   }
  },
  {
   "cell_type": "code",
   "execution_count": 157,
   "outputs": [],
   "source": [
    "\n",
    "student_Sign_up = driver.find_element(By.XPATH, '//*[@id=\"navbarCollapse\"]/ul/li[1]/ul/li[1]/a')\n",
    "student_Sign_up.click()\n",
    "\n"
   ],
   "metadata": {
    "collapsed": false,
    "pycharm": {
     "name": "#%%\n"
    }
   }
  },
  {
   "cell_type": "code",
   "execution_count": 158,
   "outputs": [],
   "source": [
    "####################################   Sign_Up As Student   ########################\n",
    "\n",
    "First_Name = driver.find_element(By.XPATH, '//*[@id=\"first_name\"]')\n",
    "First_Name.send_keys(\"Hussein\")\n",
    "\n",
    "\n",
    "Last_Name = driver.find_element(By.XPATH, '//*[@id=\"last_name\"]')\n",
    "Last_Name.send_keys(\"Elwakeel\")\n",
    "\n",
    "gender=driver.find_element(By.XPATH, '//*[@id=\"form\"]/div[2]/div/select')\n",
    "gender.click()\n",
    "\n",
    "user_name = driver.find_element(By.XPATH, '//*[@id=\"username\"]')\n",
    "user_name.send_keys(\"Hussein_Elwakeel\")\n",
    "\n",
    "email = driver.find_element(By.XPATH, '//*[@id=\"email\"]')\n",
    "email.send_keys(\"hussein_m90388@cic-cairo.com\")\n",
    "\n",
    "password = driver.find_element(By.XPATH, '//*[@id=\"password\"]')\n",
    "password.send_keys(\"hussein123\")  # to send the password\n",
    "\n",
    "retyped_password = driver.find_element(By.XPATH, '//*[@id=\"retyped_password\"]')\n",
    "retyped_password.send_keys(\"hussein123\")  # to send the password\n",
    "\n",
    "\n",
    "phone_number =driver.find_element(By.XPATH, '//*[@id=\"phone_number\"]')\n",
    "phone_number.send_keys(\"01210247381\")\n",
    "\n",
    "birthdate = driver.find_element(By.XPATH, '//*[@id=\"birthdate\"]')\n",
    "birthdate.send_keys(\"17012001\")\n",
    "\n",
    "\n",
    "\n",
    "\n",
    "school = driver.find_element(By.XPATH, '//*[@id=\"school\"]')\n",
    "school.click()\n",
    "\n",
    "major = driver.find_element(By.XPATH, '//*[@id=\"major\"]')\n",
    "major.click()\n",
    "\n",
    "concentration = driver.find_element(By.XPATH, '//*[@id=\"concentration\"]')\n",
    "concentration.click()\n",
    "\n",
    "\n",
    "agreeTerms= driver.find_element(By.XPATH, '//*[@id=\"agreeTerms\"]')\n",
    "agreeTerms.click()\n",
    "\n",
    "\n",
    "Supmit= driver.find_element(By.XPATH, '//*[@id=\"form\"]/div[13]/div[2]/button')\n",
    "Supmit.click()\n",
    "#\n",
    "#\n",
    "# have_account= driver.find_element(By.XPATH, '/html/body/div/div/div/div[2]/div/div/div[2]/a')\n",
    "# have_account.click()\n",
    "\n",
    "\n",
    "\n",
    "time.sleep(2)"
   ],
   "metadata": {
    "collapsed": false,
    "pycharm": {
     "name": "#%%\n"
    }
   }
  },
  {
   "cell_type": "code",
   "execution_count": 159,
   "outputs": [
    {
     "ename": "SyntaxError",
     "evalue": "invalid syntax (2875855812.py, line 25)",
     "output_type": "error",
     "traceback": [
      "\u001B[1;36m  Input \u001B[1;32mIn [159]\u001B[1;36m\u001B[0m\n\u001B[1;33m    password = driver.find_element(By.XPATH, '//*[@id=\"password\"]')\u001B[0m\n\u001B[1;37m    ^\u001B[0m\n\u001B[1;31mSyntaxError\u001B[0m\u001B[1;31m:\u001B[0m invalid syntax\n"
     ]
    }
   ],
   "source": [],
   "metadata": {
    "collapsed": false,
    "pycharm": {
     "name": "#%%\n"
    }
   }
  },
  {
   "cell_type": "code",
   "execution_count": null,
   "outputs": [],
   "source": [
    "#\n",
    "\n"
   ],
   "metadata": {
    "collapsed": false,
    "pycharm": {
     "name": "#%%\n"
    }
   }
  },
  {
   "cell_type": "code",
   "execution_count": null,
   "outputs": [],
   "source": [],
   "metadata": {
    "collapsed": false,
    "pycharm": {
     "name": "#%%\n"
    }
   }
  },
  {
   "cell_type": "code",
   "execution_count": null,
   "outputs": [],
   "source": [
    "\n"
   ],
   "metadata": {
    "collapsed": false,
    "pycharm": {
     "name": "#%%\n"
    }
   }
  }
 ],
 "metadata": {
  "kernelspec": {
   "display_name": "Python 3",
   "language": "python",
   "name": "python3"
  },
  "language_info": {
   "codemirror_mode": {
    "name": "ipython",
    "version": 2
   },
   "file_extension": ".py",
   "mimetype": "text/x-python",
   "name": "python",
   "nbconvert_exporter": "python",
   "pygments_lexer": "ipython2",
   "version": "2.7.6"
  }
 },
 "nbformat": 4,
 "nbformat_minor": 0
}