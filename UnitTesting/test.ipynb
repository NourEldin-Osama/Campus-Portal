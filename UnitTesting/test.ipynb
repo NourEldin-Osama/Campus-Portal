{
 "cells": [
  {
   "cell_type": "code",
   "execution_count": 1,
   "outputs": [
    {
     "name": "stdout",
     "output_type": "stream",
     "text": [
      "Requirement already satisfied: selenium==4.1.3 in c:\\users\\noureldin\\appdata\\local\\programs\\python\\python39\\lib\\site-packages (4.1.3)\n",
      "Requirement already satisfied: trio-websocket~=0.9 in c:\\users\\noureldin\\appdata\\local\\programs\\python\\python39\\lib\\site-packages (from selenium==4.1.3) (0.9.2)\n",
      "Requirement already satisfied: urllib3[secure,socks]~=1.26 in c:\\users\\noureldin\\appdata\\local\\programs\\python\\python39\\lib\\site-packages (from selenium==4.1.3) (1.26.6)\n",
      "Requirement already satisfied: trio~=0.17 in c:\\users\\noureldin\\appdata\\local\\programs\\python\\python39\\lib\\site-packages (from selenium==4.1.3) (0.20.0)\n",
      "Requirement already satisfied: async-generator>=1.9 in c:\\users\\noureldin\\appdata\\local\\programs\\python\\python39\\lib\\site-packages (from trio~=0.17->selenium==4.1.3) (1.10)\n",
      "Requirement already satisfied: sniffio in c:\\users\\noureldin\\appdata\\local\\programs\\python\\python39\\lib\\site-packages (from trio~=0.17->selenium==4.1.3) (1.2.0)\n",
      "Requirement already satisfied: sortedcontainers in c:\\users\\noureldin\\appdata\\local\\programs\\python\\python39\\lib\\site-packages (from trio~=0.17->selenium==4.1.3) (2.4.0)\n",
      "Requirement already satisfied: outcome in c:\\users\\noureldin\\appdata\\local\\programs\\python\\python39\\lib\\site-packages (from trio~=0.17->selenium==4.1.3) (1.1.0)\n",
      "Requirement already satisfied: cffi>=1.14 in c:\\users\\noureldin\\appdata\\local\\programs\\python\\python39\\lib\\site-packages (from trio~=0.17->selenium==4.1.3) (1.15.0)\n",
      "Requirement already satisfied: idna in c:\\users\\noureldin\\appdata\\local\\programs\\python\\python39\\lib\\site-packages (from trio~=0.17->selenium==4.1.3) (3.2)\n",
      "Requirement already satisfied: attrs>=19.2.0 in c:\\users\\noureldin\\appdata\\local\\programs\\python\\python39\\lib\\site-packages (from trio~=0.17->selenium==4.1.3) (21.4.0)\n",
      "Requirement already satisfied: wsproto>=0.14 in c:\\users\\noureldin\\appdata\\local\\programs\\python\\python39\\lib\\site-packages (from trio-websocket~=0.9->selenium==4.1.3) (1.1.0)\n",
      "Requirement already satisfied: cryptography>=1.3.4 in c:\\users\\noureldin\\appdata\\local\\programs\\python\\python39\\lib\\site-packages (from urllib3[secure,socks]~=1.26->selenium==4.1.3) (36.0.1)\n",
      "Requirement already satisfied: pyOpenSSL>=0.14 in c:\\users\\noureldin\\appdata\\local\\programs\\python\\python39\\lib\\site-packages (from urllib3[secure,socks]~=1.26->selenium==4.1.3) (22.0.0)\n",
      "Requirement already satisfied: certifi in c:\\users\\noureldin\\appdata\\local\\programs\\python\\python39\\lib\\site-packages (from urllib3[secure,socks]~=1.26->selenium==4.1.3) (2021.5.30)\n",
      "Requirement already satisfied: PySocks!=1.5.7,<2.0,>=1.5.6 in c:\\users\\noureldin\\appdata\\local\\programs\\python\\python39\\lib\\site-packages (from urllib3[secure,socks]~=1.26->selenium==4.1.3) (1.7.1)\n",
      "Requirement already satisfied: pycparser in c:\\users\\noureldin\\appdata\\local\\programs\\python\\python39\\lib\\site-packages (from cffi>=1.14->trio~=0.17->selenium==4.1.3) (2.21)\n",
      "Requirement already satisfied: h11<1,>=0.9.0 in c:\\users\\noureldin\\appdata\\local\\programs\\python\\python39\\lib\\site-packages (from wsproto>=0.14->trio-websocket~=0.9->selenium==4.1.3) (0.13.0)\n"
     ]
    }
   ],
   "source": [
    "!pip install selenium==4.1.3"
   ],
   "metadata": {
    "collapsed": false,
    "pycharm": {
     "name": "#%%\n"
    }
   }
  },
  {
   "cell_type": "code",
   "execution_count": 1,
   "metadata": {
    "collapsed": true,
    "pycharm": {
     "name": "#%%\n"
    }
   },
   "outputs": [],
   "source": [
    "import time\n",
    "import unittest\n",
    "\n",
    "from selenium import webdriver\n",
    "from selenium.webdriver.chrome.service import Service as ChromeService\n",
    "from selenium.webdriver.common.by import By\n",
    "from webdriver_manager.chrome import ChromeDriverManager"
   ]
  },
  {
   "cell_type": "code",
   "execution_count": 2,
   "outputs": [],
   "source": [
    "login_url = r'https://noureldin.pythonanywhere.com/campus_portal/Login'\n",
    "username = 'nour'\n",
    "email = 'theprogrammernoureldinosama@gmail.com'\n",
    "password = 'theprogrammernoureldinosama@gmail.com'"
   ],
   "metadata": {
    "collapsed": false,
    "pycharm": {
     "name": "#%%\n"
    }
   }
  },
  {
   "cell_type": "code",
   "execution_count": 3,
   "outputs": [],
   "source": [
    "class LoginTest(unittest.TestCase):\n",
    "    def setUp(self):\n",
    "        options = webdriver.ChromeOptions()\n",
    "        options.headless = False\n",
    "\n",
    "        # Start Chrome WebDriver\n",
    "        self.service = ChromeService(executable_path=ChromeDriverManager(log_level=0).install())\n",
    "        self.driver = webdriver.Chrome(service=self.service, options=options)\n",
    "        self.driver.implicitly_wait(1)  # wait  to load the page\n",
    "        self.driver.maximize_window()  # to max the window\n",
    "\n",
    "    def test_login_by_empty_fields(self):\n",
    "        self.driver.get(login_url)\n",
    "\n",
    "        self.username_field = self.driver.find_element(By.NAME, 'email')\n",
    "        self.username_field.send_keys('')\n",
    "\n",
    "        self.password_field = self.driver.find_element(By.NAME, 'password')\n",
    "        self.password_field.send_keys('')\n",
    "\n",
    "        self.login_button = self.driver.find_element(By.XPATH, '/html/body/main/form/div[2]/div[2]/button')\n",
    "        self.login_button.click()\n",
    "        self.assertEqual(login_url, self.driver.current_url)\n",
    "\n",
    "    def test_login_by_username(self):\n",
    "        self.driver.get(login_url)\n",
    "\n",
    "        self.username_field = self.driver.find_element(By.NAME, 'email')\n",
    "        self.username_field.send_keys(username)\n",
    "\n",
    "        self.password_field = self.driver.find_element(By.NAME, 'password')\n",
    "        self.password_field.send_keys(password)\n",
    "\n",
    "        self.remember_me = self.driver.find_element(By.NAME, 'remember_me')\n",
    "        self.remember_me.click()\n",
    "\n",
    "        self.login_button = self.driver.find_element(By.XPATH, '/html/body/main/form/div[2]/div[2]/button')\n",
    "        self.login_button.click()\n",
    "        self.assertNotEqual(login_url, self.driver.current_url)\n",
    "\n",
    "    def test_login_by_email(self):\n",
    "        self.driver.get(login_url)\n",
    "\n",
    "        self.username_field = self.driver.find_element(By.NAME, 'email')\n",
    "        self.username_field.send_keys(email)\n",
    "\n",
    "        self.password_field = self.driver.find_element(By.NAME, 'password')\n",
    "        self.password_field.send_keys(password)\n",
    "\n",
    "        self.remember_me = self.driver.find_element(By.NAME, 'remember_me')\n",
    "        self.remember_me.click()\n",
    "\n",
    "        self.login_button = self.driver.find_element(By.XPATH, '/html/body/main/form/div[2]/div[2]/button')\n",
    "        self.login_button.click()\n",
    "        self.assertNotEqual(login_url, self.driver.current_url)\n",
    "\n",
    "    def tearDown(self):\n",
    "        # close the browser window\n",
    "        self.driver.quit()"
   ],
   "metadata": {
    "collapsed": false,
    "pycharm": {
     "name": "#%%\n"
    }
   }
  },
  {
   "cell_type": "code",
   "execution_count": 4,
   "outputs": [
    {
     "name": "stderr",
     "output_type": "stream",
     "text": [
      "test_login_by_email (__main__.LoginTest) ... ok\n",
      "test_login_by_empty_fields (__main__.LoginTest) ... ok\n",
      "test_login_by_username (__main__.LoginTest) ... ok\n",
      "\n",
      "----------------------------------------------------------------------\n",
      "Ran 3 tests in 20.484s\n",
      "\n",
      "OK\n"
     ]
    },
    {
     "data": {
      "text/plain": "<unittest.main.TestProgram at 0x1f735da2a00>"
     },
     "execution_count": 4,
     "metadata": {},
     "output_type": "execute_result"
    }
   ],
   "source": [
    "unittest.main(argv=['first-arg-is-ignored'], exit=False, verbosity=2)"
   ],
   "metadata": {
    "collapsed": false,
    "pycharm": {
     "name": "#%%\n"
    }
   }
  },
  {
   "cell_type": "code",
   "execution_count": 4,
   "outputs": [],
   "source": [],
   "metadata": {
    "collapsed": false,
    "pycharm": {
     "name": "#%%\n"
    }
   }
  }
 ],
 "metadata": {
  "kernelspec": {
   "display_name": "Python 3",
   "language": "python",
   "name": "python3"
  },
  "language_info": {
   "codemirror_mode": {
    "name": "ipython",
    "version": 2
   },
   "file_extension": ".py",
   "mimetype": "text/x-python",
   "name": "python",
   "nbconvert_exporter": "python",
   "pygments_lexer": "ipython2",
   "version": "2.7.6"
  }
 },
 "nbformat": 4,
 "nbformat_minor": 0
}