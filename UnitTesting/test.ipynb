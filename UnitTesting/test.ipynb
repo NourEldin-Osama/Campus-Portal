{
 "cells": [
  {
   "cell_type": "code",
   "execution_count": null,
   "outputs": [],
   "source": [
    "!pip install selenium==4.1.3\n",
    "!pip install Faker==13.7.0"
   ],
   "metadata": {
    "collapsed": false,
    "pycharm": {
     "name": "#%%\n",
     "is_executing": true
    }
   }
  },
  {
   "cell_type": "code",
   "execution_count": 1,
   "metadata": {
    "collapsed": true,
    "pycharm": {
     "name": "#%%\n"
    }
   },
   "outputs": [],
   "source": [
    "import time\n",
    "import unittest\n",
    "\n",
    "from selenium import webdriver\n",
    "from selenium.webdriver.chrome.service import Service as ChromeService\n",
    "from selenium.webdriver.common.by import By\n",
    "from webdriver_manager.chrome import ChromeDriverManager"
   ]
  },
  {
   "cell_type": "code",
   "execution_count": 2,
   "outputs": [],
   "source": [
    "login_url = r'https://noureldin.pythonanywhere.com/campus_portal/Login'\n",
    "username = 'noureldin'\n",
    "email = 'theprogrammernoureldinosama@gmail.com'\n",
    "password = 'theprogrammernoureldinosama@gmail.com'"
   ],
   "metadata": {
    "collapsed": false,
    "pycharm": {
     "name": "#%%\n"
    }
   }
  },
  {
   "cell_type": "code",
   "execution_count": 3,
   "outputs": [],
   "source": [
    "class LoginTest(unittest.TestCase):\n",
    "    def setUp(self):\n",
    "        options = webdriver.ChromeOptions()\n",
    "        options.headless = False\n",
    "\n",
    "        # Start Chrome WebDriver\n",
    "        self.service = ChromeService(executable_path=ChromeDriverManager(log_level=0).install())\n",
    "        self.driver = webdriver.Chrome(service=self.service, options=options)\n",
    "        self.driver.implicitly_wait(1)  # wait  to load the page\n",
    "        self.driver.maximize_window()  # to max the window\n",
    "\n",
    "    def test_login_by_empty_fields(self):\n",
    "        self.driver.get(login_url)\n",
    "\n",
    "        self.username_field = self.driver.find_element(By.NAME, 'email')\n",
    "        self.username_field.send_keys('')\n",
    "\n",
    "        self.password_field = self.driver.find_element(By.NAME, 'password')\n",
    "        self.password_field.send_keys('')\n",
    "\n",
    "        self.login_button = self.driver.find_element(By.XPATH, '/html/body/main/form/div[2]/div[2]/button')\n",
    "        self.login_button.click()\n",
    "        self.assertEqual(login_url, self.driver.current_url)\n",
    "\n",
    "    def test_login_by_username(self):\n",
    "        self.driver.get(login_url)\n",
    "\n",
    "        self.username_field = self.driver.find_element(By.NAME, 'email')\n",
    "        self.username_field.send_keys(username)\n",
    "\n",
    "        self.password_field = self.driver.find_element(By.NAME, 'password')\n",
    "        self.password_field.send_keys(password)\n",
    "\n",
    "        self.remember_me = self.driver.find_element(By.NAME, 'remember_me')\n",
    "        self.remember_me.click()\n",
    "\n",
    "        self.login_button = self.driver.find_element(By.XPATH, '/html/body/main/form/div[2]/div[2]/button')\n",
    "        self.login_button.click()\n",
    "        self.assertNotEqual(login_url, self.driver.current_url)\n",
    "\n",
    "    def test_login_by_email(self):\n",
    "        self.driver.get(login_url)\n",
    "\n",
    "        self.username_field = self.driver.find_element(By.NAME, 'email')\n",
    "        self.username_field.send_keys(email)\n",
    "\n",
    "        self.password_field = self.driver.find_element(By.NAME, 'password')\n",
    "        self.password_field.send_keys(password)\n",
    "\n",
    "        self.remember_me = self.driver.find_element(By.NAME, 'remember_me')\n",
    "        self.remember_me.click()\n",
    "\n",
    "        self.login_button = self.driver.find_element(By.XPATH, '/html/body/main/form/div[2]/div[2]/button')\n",
    "        self.login_button.click()\n",
    "        self.assertNotEqual(login_url, self.driver.current_url)\n",
    "\n",
    "    def tearDown(self):\n",
    "        # close the browser window\n",
    "        self.driver.quit()"
   ],
   "metadata": {
    "collapsed": false,
    "pycharm": {
     "name": "#%%\n"
    }
   }
  },
  {
   "cell_type": "code",
   "execution_count": 4,
   "outputs": [
    {
     "name": "stderr",
     "output_type": "stream",
     "text": [
      "test_login_by_email (__main__.LoginTest) ... ok\n",
      "test_login_by_empty_fields (__main__.LoginTest) ... ok\n",
      "test_login_by_username (__main__.LoginTest) ... ok\n",
      "\n",
      "----------------------------------------------------------------------\n",
      "Ran 3 tests in 20.484s\n",
      "\n",
      "OK\n"
     ]
    },
    {
     "data": {
      "text/plain": "<unittest.main.TestProgram at 0x1f735da2a00>"
     },
     "execution_count": 4,
     "metadata": {},
     "output_type": "execute_result"
    }
   ],
   "source": [
    "unittest.main(argv=['first-arg-is-ignored'], exit=False, verbosity=2)"
   ],
   "metadata": {
    "collapsed": false,
    "pycharm": {
     "name": "#%%\n"
    }
   }
  },
  {
   "cell_type": "code",
   "execution_count": 4,
   "outputs": [],
   "source": [],
   "metadata": {
    "collapsed": false,
    "pycharm": {
     "name": "#%%\n"
    }
   }
  }
 ],
 "metadata": {
  "kernelspec": {
   "display_name": "Python 3",
   "language": "python",
   "name": "python3"
  },
  "language_info": {
   "codemirror_mode": {
    "name": "ipython",
    "version": 2
   },
   "file_extension": ".py",
   "mimetype": "text/x-python",
   "name": "python",
   "nbconvert_exporter": "python",
   "pygments_lexer": "ipython2",
   "version": "2.7.6"
  }
 },
 "nbformat": 4,
 "nbformat_minor": 0
}