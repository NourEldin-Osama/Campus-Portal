{
 "cells": [
  {
   "cell_type": "code",
   "execution_count": 1,
   "outputs": [],
   "source": [
    "from env import *"
   ],
   "metadata": {
    "collapsed": false,
    "pycharm": {
     "name": "#%%\n"
    }
   }
  },
  {
   "cell_type": "code",
   "execution_count": 2,
   "outputs": [],
   "source": [
    "from time import sleep\n",
    "\n",
    "from selenium import webdriver\n",
    "from selenium.webdriver.chrome.service import Service as ChromeService\n",
    "from selenium.webdriver.common.by import By\n",
    "from webdriver_manager.chrome import ChromeDriverManager\n",
    "from faker import Faker"
   ],
   "metadata": {
    "collapsed": false,
    "pycharm": {
     "name": "#%%\n"
    }
   }
  },
  {
   "cell_type": "code",
   "execution_count": 3,
   "outputs": [],
   "source": [
    "options = webdriver.ChromeOptions()\n",
    "options.headless = False\n",
    "\n",
    "# Start Chrome WebDriver\n",
    "service = ChromeService(executable_path=ChromeDriverManager(log_level=0).install())\n",
    "driver = webdriver.Chrome(service=service, options=options)\n",
    "driver.implicitly_wait(1)  # wait  to load the page\n",
    "driver.maximize_window()  # to max the window\n",
    "faker = Faker()"
   ],
   "metadata": {
    "collapsed": false,
    "pycharm": {
     "name": "#%%\n"
    }
   }
  },
  {
   "cell_type": "markdown",
   "source": [],
   "metadata": {
    "collapsed": false,
    "pycharm": {
     "name": "#%% md\n"
    }
   }
  },
  {
   "cell_type": "markdown",
   "source": [],
   "metadata": {
    "collapsed": false,
    "pycharm": {
     "name": "#%% md\n"
    }
   }
  },
  {
   "cell_type": "code",
   "execution_count": 4,
   "outputs": [],
   "source": [
    "driver.get(Base_url + \"admin\")"
   ],
   "metadata": {
    "collapsed": false,
    "pycharm": {
     "name": "#%%\n"
    }
   }
  },
  {
   "cell_type": "code",
   "execution_count": 5,
   "outputs": [],
   "source": [
    "username_field = driver.find_element(By.NAME, 'username')\n",
    "username_field.send_keys(admin_username)\n",
    "password_field = driver.find_element(By.NAME, 'password')\n",
    "password_field.send_keys(admin_password)\n",
    "login_button = driver.find_element(By.XPATH, '//*[@id=\"login-form\"]/div[3]/input')\n",
    "login_button.click()"
   ],
   "metadata": {
    "collapsed": false,
    "pycharm": {
     "name": "#%%\n"
    }
   }
  },
  {
   "cell_type": "code",
   "execution_count": 6,
   "outputs": [],
   "source": [
    "def add_social_application(option_number, name, client_id, secret_key):\n",
    "    driver.get(Base_url + 'admin/socialaccount/socialapp/add/')\n",
    "    driver.find_element(By.XPATH, f'//*[@id=\"id_provider\"]/option[{option_number}]').click()\n",
    "    social_application_name = driver.find_element(By.NAME, 'name')\n",
    "    social_application_name.send_keys(name)\n",
    "    social_application_client_id = driver.find_element(By.NAME, 'client_id')\n",
    "    social_application_client_id.send_keys(client_id)\n",
    "    social_application_secret_key = driver.find_element(By.NAME, 'secret')\n",
    "    social_application_secret_key.send_keys(secret_key)\n",
    "    driver.find_element(By.XPATH, '//*[@id=\"id_sites_from\"]/option').click()\n",
    "    driver.find_element(By.XPATH, '//*[@id=\"id_sites_add_link\"]').click()\n",
    "    driver.find_element(By.XPATH, '//*[@id=\"socialapp_form\"]/div/div/input[1]').click()"
   ],
   "metadata": {
    "collapsed": false,
    "pycharm": {
     "name": "#%%\n"
    }
   }
  },
  {
   "cell_type": "code",
   "execution_count": 7,
   "outputs": [],
   "source": [
    "add_social_application(2, \"Google\", Google_Client_id, Google_Secret_key)\n",
    "add_social_application(3, \"Facebook\", Facebook_Client_id, Facebook_Secret_key)\n",
    "add_social_application(4, \"GitHub\", GitHub_Client_id, GitHub_Secret_key)\n",
    "add_social_application(5, \"Twitter\", Twitter_Client_id, Twitter_Secret_key)"
   ],
   "metadata": {
    "collapsed": false,
    "pycharm": {
     "name": "#%%\n"
    }
   }
  },
  {
   "cell_type": "code",
   "execution_count": 8,
   "outputs": [],
   "source": [
    "driver.get(Base_url + 'admin/sites/site/1/change/')\n",
    "site_domain = driver.find_element(By.NAME, 'domain')\n",
    "site_domain.clear()\n",
    "site_domain.send_keys(Domain)\n",
    "site_name = driver.find_element(By.NAME, 'name')\n",
    "site_name.clear()\n",
    "site_name.send_keys('College Portal')\n",
    "driver.find_element(By.XPATH, '//*[@id=\"site_form\"]/div/div/input[1]').click()"
   ],
   "metadata": {
    "collapsed": false,
    "pycharm": {
     "name": "#%%\n"
    }
   }
  },
  {
   "cell_type": "markdown",
   "source": [
    "# Create 3 Doctors, 20 Student, 5 Courses, register in the courses"
   ],
   "metadata": {
    "collapsed": false,
    "pycharm": {
     "name": "#%% md\n"
    }
   }
  },
  {
   "cell_type": "code",
   "execution_count": 9,
   "outputs": [],
   "source": [
    "def create_doctor(first_name, last_name, gender, username, email, password, phone_number, birthdate, degree):\n",
    "    driver.get(Base_url + 'College_Portal/Logout')\n",
    "    driver.get(Base_url + 'College_Portal/doctor_signup')\n",
    "    driver.find_element(By.NAME, 'first_name').send_keys(first_name)\n",
    "    driver.find_element(By.NAME, 'last_name').send_keys(last_name)\n",
    "    if gender == \"f\":\n",
    "        driver.find_element(By.XPATH, '//*[@id=\"gender\"]/option[2]').click()\n",
    "    driver.find_element(By.NAME, 'username').send_keys(username)\n",
    "    driver.find_element(By.NAME, 'email').send_keys(email)\n",
    "    driver.find_element(By.NAME, 'password').send_keys(password)\n",
    "    driver.find_element(By.NAME, 'retyped_password').send_keys(password)\n",
    "    driver.find_element(By.NAME, 'phone_number').send_keys(phone_number)\n",
    "    driver.find_element(By.NAME, 'birthdate').send_keys(birthdate)\n",
    "    driver.find_element(By.NAME, 'degree').send_keys(degree)\n",
    "    driver.find_element(By.NAME, 'terms').click()\n",
    "    reg_btn = driver.find_element(By.XPATH, '/html/body/div/div/div/div[2]/div/div/div[2]/form/div[11]/div[2]/button')\n",
    "    driver.execute_script(\"arguments[0].click();\", reg_btn)"
   ],
   "metadata": {
    "collapsed": false,
    "pycharm": {
     "name": "#%%\n"
    }
   }
  },
  {
   "cell_type": "code",
   "execution_count": 10,
   "outputs": [],
   "source": [
    "doctors = {\n",
    "    \"Dalia\": [\"Dalia\", \"Ahmed Magdi\", \"f\", \"dalia_ahmed\", \"dalia_a_magdi@cic-cairo.com\", \"Pa$$w0rd\", \"201020021996\",\n",
    "              \"07/14/1975\",\n",
    "              \"PhD in Management Information Systems, Sadat Academy for Management Sciences, 2010 \\\n",
    "              Sc. in Management Sciences, Sadat Academy for Management Sciences, 2002 \\\n",
    "              Sc. in Management Sciences, Sadat Academy for Management Sciences, 1996\"],\n",
    "    \"Lamees\": [\"Lamees\", \"Mohamed Faraj Frj\", \"f\", \"lamees_mohamed\", \"lamees_m_frj@cic-cairo.com\", \"Pa$$w0rd\",\n",
    "               \"202020202020\",\n",
    "               \"01/01/1999\",\n",
    "               \"Sc. in Computer Science, Helwan University, 2020\"],\n",
    "    \"Ghada\": [\"Ghada\", \"Fathy Taha Asim\", \"f\", \"ghada_asim\", \"ghada_asim@cic-cairo.com\", \"Pa$$w0rd\", \"202020202020\",\n",
    "              \"01/01/1999\",\n",
    "              \"Sc. in Information Technology, Misr University, 2020\"],\n",
    "}\n",
    "for doctor in doctors:\n",
    "    create_doctor(*doctors[doctor])"
   ],
   "metadata": {
    "collapsed": false,
    "pycharm": {
     "name": "#%%\n"
    }
   }
  },
  {
   "cell_type": "code",
   "execution_count": 11,
   "outputs": [],
   "source": [
    "def sign_in(username, password):\n",
    "    driver.get(Base_url + 'College_Portal/Login')\n",
    "    driver.find_element(By.NAME, 'email').send_keys(username)\n",
    "    driver.find_element(By.NAME, 'password').send_keys(password)\n",
    "    login_btn = driver.find_element(By.XPATH, '/html/body/main/form/div[2]/div[2]/button')\n",
    "    driver.execute_script(\"arguments[0].click();\", login_btn)"
   ],
   "metadata": {
    "collapsed": false,
    "pycharm": {
     "name": "#%%\n"
    }
   }
  },
  {
   "cell_type": "code",
   "execution_count": 12,
   "outputs": [],
   "source": [
    "sign_in(doctors['Dalia'][3], doctors['Dalia'][5])"
   ],
   "metadata": {
    "collapsed": false,
    "pycharm": {
     "name": "#%%\n"
    }
   }
  },
  {
   "cell_type": "code",
   "execution_count": 13,
   "outputs": [],
   "source": [
    "def create_course(code, name, credit_hour, prerequisite, course_type):\n",
    "    driver.get(Base_url + 'College_Portal/create_course')\n",
    "    driver.find_element(By.NAME, 'code').send_keys(code)\n",
    "    driver.find_element(By.NAME, 'name').send_keys(name)\n",
    "    driver.find_element(By.NAME, 'credit_hour').send_keys(credit_hour)\n",
    "    driver.find_element(By.NAME, 'prerequisite').send_keys(prerequisite)\n",
    "    driver.find_element(By.NAME, 'type').send_keys(course_type)\n",
    "    create_btn = driver.find_element(By.XPATH, '/html/body/main/form/div[2]/div[2]/button')\n",
    "    driver.execute_script(\"arguments[0].click();\", create_btn)"
   ],
   "metadata": {
    "collapsed": false,
    "pycharm": {
     "name": "#%%\n"
    }
   }
  },
  {
   "cell_type": "code",
   "execution_count": 14,
   "outputs": [],
   "source": [
    "courses = {\n",
    "    \"SWE 493\": [\"SWE 493\", \"Web Engineering and Development\", \"3\", \"SWE 392\", \"Major Requirements\"],\n",
    "    \"SWE 390\": [\"SWE 390\", \"Software Engineering\", \"4\", \"INF 380\", \"Major Requirements\"],\n",
    "    \"INF 380\": [\"INF 380\", \"System Analysis and Design\", \"3\", \"INF 370\", \"Institute Requirements\"],\n",
    "    \"CSC 140\": [\"CSC 140\", \"Introduction to Computer\", \"4\", \"None\", \"Institute Requirements\"],\n",
    "    \"CSC 150\": [\"CSC 150\", \"Fundamentals of Structured Programming\", \"4\", \"CSC 140\", \"Institute Requirements\"],\n",
    "}\n",
    "for course in courses:\n",
    "    create_course(*courses[course])"
   ],
   "metadata": {
    "collapsed": false,
    "pycharm": {
     "name": "#%%\n"
    }
   }
  },
  {
   "cell_type": "code",
   "execution_count": 15,
   "outputs": [],
   "source": [
    "def create_student(first_name, last_name, gender, username, email, password, phone_number, birthdate, school, major,\n",
    "                   concentration):\n",
    "    driver.get(Base_url + 'College_Portal/Logout')\n",
    "    driver.get(Base_url + 'College_Portal/student_signup')\n",
    "    driver.find_element(By.NAME, 'first_name').send_keys(first_name)\n",
    "    driver.find_element(By.NAME, 'last_name').send_keys(last_name)\n",
    "    if gender == \"f\":\n",
    "        driver.find_element(By.XPATH, '//*[@id=\"gender\"]/option[2]').click()\n",
    "    driver.find_element(By.NAME, 'username').send_keys(username)\n",
    "    driver.find_element(By.NAME, 'email').send_keys(email)\n",
    "    driver.find_element(By.NAME, 'password').send_keys(password)\n",
    "    driver.find_element(By.NAME, 'retyped_password').send_keys(password)\n",
    "    driver.find_element(By.NAME, 'phone_number').send_keys(phone_number)\n",
    "    driver.find_element(By.NAME, 'birthdate').send_keys(birthdate)\n",
    "    # from 1 -> 5\n",
    "    driver.find_element(By.XPATH, f'//*[@id=\"school\"]/option[{school}]').click()\n",
    "    # from 1 -> 13\n",
    "    driver.find_element(By.XPATH, f'//*[@id=\"major\"]/option[{major}]').click()\n",
    "    # from 1 -> 3\n",
    "    driver.find_element(By.XPATH, f'//*[@id=\"concentration\"]/option[{concentration}]').click()\n",
    "    term_btn = driver.find_element(By.NAME, 'terms')\n",
    "    driver.execute_script(\"arguments[0].click();\", term_btn)\n",
    "    reg_btn = driver.find_element(By.XPATH, '//*[@id=\"form\"]/div[13]/div[2]/button')\n",
    "    driver.execute_script(\"arguments[0].click();\", reg_btn)"
   ],
   "metadata": {
    "collapsed": false,
    "pycharm": {
     "name": "#%%\n"
    }
   }
  },
  {
   "cell_type": "code",
   "execution_count": 16,
   "outputs": [],
   "source": [
    "def generate_random_data():\n",
    "    gender = [\"m\", \"f\"][faker.random_int(0, 1)]\n",
    "    school = faker.random_int(1, 5)\n",
    "    major = faker.random_int(1, 13)\n",
    "    concentration = faker.random_int(1, 3)\n",
    "    temp_password = faker.password()\n",
    "    dob = faker.date_of_birth().__str__().split(\"-\")\n",
    "    dob = F\"{dob[1]}/{dob[2]}/{dob[0]}\"\n",
    "    return [faker.first_name(), faker.last_name(), gender, faker.user_name(), faker.email(),\n",
    "            temp_password, faker.phone_number(), dob, school, major, concentration]"
   ],
   "metadata": {
    "collapsed": false,
    "pycharm": {
     "name": "#%%\n"
    }
   }
  },
  {
   "cell_type": "code",
   "execution_count": 17,
   "outputs": [],
   "source": [
    "students = {}\n",
    "\n",
    "for num in range(1, 21):\n",
    "    students[\"student\" + str(num)] = generate_random_data()"
   ],
   "metadata": {
    "collapsed": false,
    "pycharm": {
     "name": "#%%\n"
    }
   }
  },
  {
   "cell_type": "code",
   "execution_count": 18,
   "outputs": [],
   "source": [
    "for student in students:\n",
    "    create_student(*students[student])\n",
    "    sign_in(students[student][3], students[student][5])\n",
    "    for i in range(1, 5):\n",
    "        driver.get(Base_url + f'College_Portal/course/{i}/enroll')"
   ],
   "metadata": {
    "collapsed": false,
    "pycharm": {
     "name": "#%%\n"
    }
   }
  },
  {
   "cell_type": "code",
   "execution_count": 19,
   "outputs": [],
   "source": [
    "driver.quit()"
   ],
   "metadata": {
    "collapsed": false,
    "pycharm": {
     "name": "#%%\n"
    }
   }
  },
  {
   "cell_type": "code",
   "execution_count": 19,
   "outputs": [],
   "source": [],
   "metadata": {
    "collapsed": false,
    "pycharm": {
     "name": "#%%\n"
    }
   }
  }
 ],
 "metadata": {
  "kernelspec": {
   "display_name": "Python 3",
   "language": "python",
   "name": "python3"
  },
  "language_info": {
   "codemirror_mode": {
    "name": "ipython",
    "version": 2
   },
   "file_extension": ".py",
   "mimetype": "text/x-python",
   "name": "python",
   "nbconvert_exporter": "python",
   "pygments_lexer": "ipython2",
   "version": "2.7.6"
  }
 },
 "nbformat": 4,
 "nbformat_minor": 0
}